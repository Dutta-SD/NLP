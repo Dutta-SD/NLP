{
  "nbformat": 4,
  "nbformat_minor": 0,
  "metadata": {
    "colab": {
      "name": "Basic_exploration_Aspect_Analysis.ipynb",
      "provenance": [],
      "authorship_tag": "ABX9TyOZKjc8r3plHnj6lV0Esj38",
      "include_colab_link": true
    },
    "kernelspec": {
      "name": "python3",
      "display_name": "Python 3"
    },
    "language_info": {
      "name": "python"
    }
  },
  "cells": [
    {
      "cell_type": "markdown",
      "metadata": {
        "id": "view-in-github",
        "colab_type": "text"
      },
      "source": [
        "<a href=\"https://colab.research.google.com/github/Dutta-SD/NLP/blob/master/Basic_exploration_Aspect_Analysis.ipynb\" target=\"_parent\"><img src=\"https://colab.research.google.com/assets/colab-badge.svg\" alt=\"Open In Colab\"/></a>"
      ]
    },
    {
      "cell_type": "markdown",
      "metadata": {
        "id": "COaXnnHmCATt"
      },
      "source": [
        "# Aspect Analysis, Basic Exploration"
      ]
    },
    {
      "cell_type": "markdown",
      "metadata": {
        "id": "vYFpE5jTCxo7"
      },
      "source": [
        "## Get the zip file"
      ]
    },
    {
      "cell_type": "code",
      "metadata": {
        "colab": {
          "base_uri": "https://localhost:8080/"
        },
        "id": "hcIrl4psCOkm",
        "outputId": "624dca36-0264-49f3-bfc8-73d2ec15f7f6"
      },
      "source": [
        "%%bash\n",
        "wget -nv http://times.cs.uiuc.edu/~wang296/Data/LARA/TripAdvisor/Review_Texts.zip\n",
        "unzip -qq Review_Texts.zip\n",
        "rm Review_Texts.zip"
      ],
      "execution_count": 1,
      "outputs": [
        {
          "output_type": "stream",
          "text": [
            "2021-08-04 18:54:30 URL:http://times.cs.uiuc.edu/~wang296/Data/LARA/TripAdvisor/Review_Texts.zip [83386633/83386633] -> \"Review_Texts.zip\" [1]\n",
            "replace hotel_100504.dat? [y]es, [n]o, [A]ll, [N]one, [r]ename: new name: replace hotel_100505.dat? [y]es, [n]o, [A]ll, [N]one, [r]ename:  NULL\n",
            "(EOF or read error, treating as \"[N]one\" ...)\n"
          ],
          "name": "stderr"
        }
      ]
    },
    {
      "cell_type": "markdown",
      "metadata": {
        "id": "t6jwZA9OC1-J"
      },
      "source": [
        "## Start Exploration"
      ]
    },
    {
      "cell_type": "markdown",
      "metadata": {
        "id": "4jAwROKlOK_Y"
      },
      "source": [
        "* Each `.dat` file extracted contains reviews of only 1 hotel\n",
        "* Each file contains about 125 reviews\n",
        "* First 3 rows contain data about the hotel(Overall rating, URL, Average Price)\n",
        "* Each 13 rows next contains data about the hotels - author review, aspects etc\n",
        "* The format of the rows in `.dat` file is:\n",
        "```\n",
        "<Overall Rating>4\n",
        "<URL>https://....\n",
        "<Avg. Price>$400\n",
        "```\n",
        "So delimiter is `>`, Then we need to clean the row names"
      ]
    },
    {
      "cell_type": "code",
      "metadata": {
        "id": "Toe4W21WCKVN"
      },
      "source": [
        "import pandas as pd\n",
        "import numpy as np"
      ],
      "execution_count": 2,
      "outputs": []
    },
    {
      "cell_type": "code",
      "metadata": {
        "id": "3jkR5r0QDvAk"
      },
      "source": [
        "data_1 = pd.read_csv('./hotel_100504.dat', header = None, sep = '>')\n",
        "meta_data_1 = data_1.iloc[ : 3, :]\n",
        "actual_data_1 = data_1.iloc[ 3 : , :]"
      ],
      "execution_count": 3,
      "outputs": []
    },
    {
      "cell_type": "code",
      "metadata": {
        "colab": {
          "base_uri": "https://localhost:8080/"
        },
        "id": "TkeE_SdVG4hN",
        "outputId": "ed0f2005-6429-445d-c734-dc3bf7f99ad7"
      },
      "source": [
        "col_names = data_1.iloc[ : , 0].tolist()\n",
        "col_names = [col[1:] for col in col_names]\n",
        "col_names[ : 16]"
      ],
      "execution_count": 4,
      "outputs": [
        {
          "output_type": "execute_result",
          "data": {
            "text/plain": [
              "['Overall Rating',\n",
              " 'Avg. Price',\n",
              " 'URL',\n",
              " 'Author',\n",
              " 'Content',\n",
              " 'Date',\n",
              " 'No. Reader',\n",
              " 'No. Helpful',\n",
              " 'Overall',\n",
              " 'Value',\n",
              " 'Rooms',\n",
              " 'Location',\n",
              " 'Cleanliness',\n",
              " 'Check in / front desk',\n",
              " 'Service',\n",
              " 'Business service']"
            ]
          },
          "metadata": {
            "tags": []
          },
          "execution_count": 4
        }
      ]
    },
    {
      "cell_type": "code",
      "metadata": {
        "colab": {
          "base_uri": "https://localhost:8080/",
          "height": 480
        },
        "id": "7_9bqdaUM5hK",
        "outputId": "7fa8add2-fcbc-404e-ee28-1427979f2353"
      },
      "source": [
        "actual_data_1.head(14)"
      ],
      "execution_count": 5,
      "outputs": [
        {
          "output_type": "execute_result",
          "data": {
            "text/html": [
              "<div>\n",
              "<style scoped>\n",
              "    .dataframe tbody tr th:only-of-type {\n",
              "        vertical-align: middle;\n",
              "    }\n",
              "\n",
              "    .dataframe tbody tr th {\n",
              "        vertical-align: top;\n",
              "    }\n",
              "\n",
              "    .dataframe thead th {\n",
              "        text-align: right;\n",
              "    }\n",
              "</style>\n",
              "<table border=\"1\" class=\"dataframe\">\n",
              "  <thead>\n",
              "    <tr style=\"text-align: right;\">\n",
              "      <th></th>\n",
              "      <th>0</th>\n",
              "      <th>1</th>\n",
              "    </tr>\n",
              "  </thead>\n",
              "  <tbody>\n",
              "    <tr>\n",
              "      <th>3</th>\n",
              "      <td>&lt;Author</td>\n",
              "      <td>selizabethm</td>\n",
              "    </tr>\n",
              "    <tr>\n",
              "      <th>4</th>\n",
              "      <td>&lt;Content</td>\n",
              "      <td>Wonderful time- even with the snow! What a gre...</td>\n",
              "    </tr>\n",
              "    <tr>\n",
              "      <th>5</th>\n",
              "      <td>&lt;Date</td>\n",
              "      <td>Dec 23, 2008</td>\n",
              "    </tr>\n",
              "    <tr>\n",
              "      <th>6</th>\n",
              "      <td>&lt;No. Reader</td>\n",
              "      <td>-1</td>\n",
              "    </tr>\n",
              "    <tr>\n",
              "      <th>7</th>\n",
              "      <td>&lt;No. Helpful</td>\n",
              "      <td>-1</td>\n",
              "    </tr>\n",
              "    <tr>\n",
              "      <th>8</th>\n",
              "      <td>&lt;Overall</td>\n",
              "      <td>5</td>\n",
              "    </tr>\n",
              "    <tr>\n",
              "      <th>9</th>\n",
              "      <td>&lt;Value</td>\n",
              "      <td>4</td>\n",
              "    </tr>\n",
              "    <tr>\n",
              "      <th>10</th>\n",
              "      <td>&lt;Rooms</td>\n",
              "      <td>5</td>\n",
              "    </tr>\n",
              "    <tr>\n",
              "      <th>11</th>\n",
              "      <td>&lt;Location</td>\n",
              "      <td>5</td>\n",
              "    </tr>\n",
              "    <tr>\n",
              "      <th>12</th>\n",
              "      <td>&lt;Cleanliness</td>\n",
              "      <td>5</td>\n",
              "    </tr>\n",
              "    <tr>\n",
              "      <th>13</th>\n",
              "      <td>&lt;Check in / front desk</td>\n",
              "      <td>5</td>\n",
              "    </tr>\n",
              "    <tr>\n",
              "      <th>14</th>\n",
              "      <td>&lt;Service</td>\n",
              "      <td>5</td>\n",
              "    </tr>\n",
              "    <tr>\n",
              "      <th>15</th>\n",
              "      <td>&lt;Business service</td>\n",
              "      <td>-1</td>\n",
              "    </tr>\n",
              "    <tr>\n",
              "      <th>16</th>\n",
              "      <td>&lt;Author</td>\n",
              "      <td>IndieLady</td>\n",
              "    </tr>\n",
              "  </tbody>\n",
              "</table>\n",
              "</div>"
            ],
            "text/plain": [
              "                         0                                                  1\n",
              "3                  <Author                                        selizabethm\n",
              "4                 <Content  Wonderful time- even with the snow! What a gre...\n",
              "5                    <Date                                       Dec 23, 2008\n",
              "6              <No. Reader                                                 -1\n",
              "7             <No. Helpful                                                 -1\n",
              "8                 <Overall                                                  5\n",
              "9                   <Value                                                  4\n",
              "10                  <Rooms                                                  5\n",
              "11               <Location                                                  5\n",
              "12            <Cleanliness                                                  5\n",
              "13  <Check in / front desk                                                  5\n",
              "14                <Service                                                  5\n",
              "15       <Business service                                                 -1\n",
              "16                 <Author                                          IndieLady"
            ]
          },
          "metadata": {
            "tags": []
          },
          "execution_count": 5
        }
      ]
    },
    {
      "cell_type": "code",
      "metadata": {
        "colab": {
          "base_uri": "https://localhost:8080/",
          "height": 142
        },
        "id": "SdDdhH10NLLN",
        "outputId": "100de170-3b01-48a3-c3e8-d24446a24d56"
      },
      "source": [
        "meta_data_1.head()"
      ],
      "execution_count": 6,
      "outputs": [
        {
          "output_type": "execute_result",
          "data": {
            "text/html": [
              "<div>\n",
              "<style scoped>\n",
              "    .dataframe tbody tr th:only-of-type {\n",
              "        vertical-align: middle;\n",
              "    }\n",
              "\n",
              "    .dataframe tbody tr th {\n",
              "        vertical-align: top;\n",
              "    }\n",
              "\n",
              "    .dataframe thead th {\n",
              "        text-align: right;\n",
              "    }\n",
              "</style>\n",
              "<table border=\"1\" class=\"dataframe\">\n",
              "  <thead>\n",
              "    <tr style=\"text-align: right;\">\n",
              "      <th></th>\n",
              "      <th>0</th>\n",
              "      <th>1</th>\n",
              "    </tr>\n",
              "  </thead>\n",
              "  <tbody>\n",
              "    <tr>\n",
              "      <th>0</th>\n",
              "      <td>&lt;Overall Rating</td>\n",
              "      <td>4</td>\n",
              "    </tr>\n",
              "    <tr>\n",
              "      <th>1</th>\n",
              "      <td>&lt;Avg. Price</td>\n",
              "      <td>$302</td>\n",
              "    </tr>\n",
              "    <tr>\n",
              "      <th>2</th>\n",
              "      <td>&lt;URL</td>\n",
              "      <td>http://www.tripadvisor.com/ShowUserReviews-g60...</td>\n",
              "    </tr>\n",
              "  </tbody>\n",
              "</table>\n",
              "</div>"
            ],
            "text/plain": [
              "                 0                                                  1\n",
              "0  <Overall Rating                                                  4\n",
              "1      <Avg. Price                                               $302\n",
              "2             <URL  http://www.tripadvisor.com/ShowUserReviews-g60..."
            ]
          },
          "metadata": {
            "tags": []
          },
          "execution_count": 6
        }
      ]
    },
    {
      "cell_type": "code",
      "metadata": {
        "colab": {
          "base_uri": "https://localhost:8080/"
        },
        "id": "jUaLOVt5Ni8X",
        "outputId": "fdc2c6fb-5deb-4320-c8c2-cd0d30077c4d"
      },
      "source": [
        "len(actual_data_1)"
      ],
      "execution_count": 7,
      "outputs": [
        {
          "output_type": "execute_result",
          "data": {
            "text/plain": [
              "1625"
            ]
          },
          "metadata": {
            "tags": []
          },
          "execution_count": 7
        }
      ]
    },
    {
      "cell_type": "code",
      "metadata": {
        "id": "92IlmGYWVnxo"
      },
      "source": [
        "i = 0\n",
        "data_1_remade = pd.DataFrame()\n",
        "while i < len(actual_data_1):\n",
        "    df_temp = pd.DataFrame(actual_data_1.iloc[i : i +13, 1].values.reshape(-1, 1))\n",
        "    data_1_remade = pd.concat([data_1_remade, df_temp], ignore_index=True, axis = 1)\n",
        "    i += 13\n",
        "data_1_remade = data_1_remade.T"
      ],
      "execution_count": 8,
      "outputs": []
    },
    {
      "cell_type": "code",
      "metadata": {
        "colab": {
          "base_uri": "https://localhost:8080/",
          "height": 1000
        },
        "id": "2oskYmIkXGyl",
        "outputId": "2e61b233-631d-43d9-faa2-d14f94ccd1da"
      },
      "source": [
        "print(data_1_remade.shape)\n",
        "data_1_remade.columns = col_names[ 3: 16]\n",
        "data_1_remade.head(20)"
      ],
      "execution_count": 9,
      "outputs": [
        {
          "output_type": "stream",
          "text": [
            "(125, 13)\n"
          ],
          "name": "stdout"
        },
        {
          "output_type": "execute_result",
          "data": {
            "text/html": [
              "<div>\n",
              "<style scoped>\n",
              "    .dataframe tbody tr th:only-of-type {\n",
              "        vertical-align: middle;\n",
              "    }\n",
              "\n",
              "    .dataframe tbody tr th {\n",
              "        vertical-align: top;\n",
              "    }\n",
              "\n",
              "    .dataframe thead th {\n",
              "        text-align: right;\n",
              "    }\n",
              "</style>\n",
              "<table border=\"1\" class=\"dataframe\">\n",
              "  <thead>\n",
              "    <tr style=\"text-align: right;\">\n",
              "      <th></th>\n",
              "      <th>Author</th>\n",
              "      <th>Content</th>\n",
              "      <th>Date</th>\n",
              "      <th>No. Reader</th>\n",
              "      <th>No. Helpful</th>\n",
              "      <th>Overall</th>\n",
              "      <th>Value</th>\n",
              "      <th>Rooms</th>\n",
              "      <th>Location</th>\n",
              "      <th>Cleanliness</th>\n",
              "      <th>Check in / front desk</th>\n",
              "      <th>Service</th>\n",
              "      <th>Business service</th>\n",
              "    </tr>\n",
              "  </thead>\n",
              "  <tbody>\n",
              "    <tr>\n",
              "      <th>0</th>\n",
              "      <td>selizabethm</td>\n",
              "      <td>Wonderful time- even with the snow! What a gre...</td>\n",
              "      <td>Dec 23, 2008</td>\n",
              "      <td>-1</td>\n",
              "      <td>-1</td>\n",
              "      <td>5</td>\n",
              "      <td>4</td>\n",
              "      <td>5</td>\n",
              "      <td>5</td>\n",
              "      <td>5</td>\n",
              "      <td>5</td>\n",
              "      <td>5</td>\n",
              "      <td>-1</td>\n",
              "    </tr>\n",
              "    <tr>\n",
              "      <th>1</th>\n",
              "      <td>IndieLady</td>\n",
              "      <td>Lovely hotel, unique decor, friendly front des...</td>\n",
              "      <td>Nov 13, 2008</td>\n",
              "      <td>-1</td>\n",
              "      <td>-1</td>\n",
              "      <td>4</td>\n",
              "      <td>5</td>\n",
              "      <td>4</td>\n",
              "      <td>5</td>\n",
              "      <td>4</td>\n",
              "      <td>5</td>\n",
              "      <td>5</td>\n",
              "      <td>-1</td>\n",
              "    </tr>\n",
              "    <tr>\n",
              "      <th>2</th>\n",
              "      <td>Hilobb</td>\n",
              "      <td>Nice hotel, expensive parking We got a good de...</td>\n",
              "      <td>Nov 11, 2008</td>\n",
              "      <td>-1</td>\n",
              "      <td>-1</td>\n",
              "      <td>4</td>\n",
              "      <td>4</td>\n",
              "      <td>4</td>\n",
              "      <td>3</td>\n",
              "      <td>4</td>\n",
              "      <td>5</td>\n",
              "      <td>-1</td>\n",
              "      <td>4</td>\n",
              "    </tr>\n",
              "    <tr>\n",
              "      <th>3</th>\n",
              "      <td>Chianti_girl24</td>\n",
              "      <td>Fabulous hotel Location and service are great....</td>\n",
              "      <td>Nov 4, 2008</td>\n",
              "      <td>-1</td>\n",
              "      <td>-1</td>\n",
              "      <td>5</td>\n",
              "      <td>5</td>\n",
              "      <td>5</td>\n",
              "      <td>5</td>\n",
              "      <td>5</td>\n",
              "      <td>5</td>\n",
              "      <td>5</td>\n",
              "      <td>5</td>\n",
              "    </tr>\n",
              "    <tr>\n",
              "      <th>4</th>\n",
              "      <td>hothearted</td>\n",
              "      <td>Loved the Monaco! Staff was amazing, with a sm...</td>\n",
              "      <td>Oct 18, 2008</td>\n",
              "      <td>2</td>\n",
              "      <td>2</td>\n",
              "      <td>5</td>\n",
              "      <td>-1</td>\n",
              "      <td>-1</td>\n",
              "      <td>-1</td>\n",
              "      <td>-1</td>\n",
              "      <td>-1</td>\n",
              "      <td>-1</td>\n",
              "      <td>-1</td>\n",
              "    </tr>\n",
              "    <tr>\n",
              "      <th>5</th>\n",
              "      <td>MauiDiver</td>\n",
              "      <td>Ok, but nothing special for the $$ they charge...</td>\n",
              "      <td>Oct 13, 2008</td>\n",
              "      <td>2</td>\n",
              "      <td>1</td>\n",
              "      <td>2</td>\n",
              "      <td>2</td>\n",
              "      <td>3</td>\n",
              "      <td>3</td>\n",
              "      <td>5</td>\n",
              "      <td>2</td>\n",
              "      <td>2</td>\n",
              "      <td>3</td>\n",
              "    </tr>\n",
              "    <tr>\n",
              "      <th>6</th>\n",
              "      <td>Tulane86</td>\n",
              "      <td>Nice Rooms but not a 4* experience The Hotel M...</td>\n",
              "      <td>Sep 15, 2008</td>\n",
              "      <td>3</td>\n",
              "      <td>1</td>\n",
              "      <td>3</td>\n",
              "      <td>2</td>\n",
              "      <td>4</td>\n",
              "      <td>5</td>\n",
              "      <td>5</td>\n",
              "      <td>1</td>\n",
              "      <td>3</td>\n",
              "      <td>5</td>\n",
              "    </tr>\n",
              "    <tr>\n",
              "      <th>7</th>\n",
              "      <td>kstenger</td>\n",
              "      <td>Wonderful experience at the Monaco We are Seat...</td>\n",
              "      <td>Sep 15, 2008</td>\n",
              "      <td>4</td>\n",
              "      <td>4</td>\n",
              "      <td>5</td>\n",
              "      <td>5</td>\n",
              "      <td>5</td>\n",
              "      <td>5</td>\n",
              "      <td>5</td>\n",
              "      <td>5</td>\n",
              "      <td>5</td>\n",
              "      <td>-1</td>\n",
              "    </tr>\n",
              "    <tr>\n",
              "      <th>8</th>\n",
              "      <td>cantwaitNy</td>\n",
              "      <td>Great Hotel Fantastic Hotel. Get the goldfish ...</td>\n",
              "      <td>Sep 1, 2008</td>\n",
              "      <td>-1</td>\n",
              "      <td>-1</td>\n",
              "      <td>5</td>\n",
              "      <td>5</td>\n",
              "      <td>5</td>\n",
              "      <td>5</td>\n",
              "      <td>5</td>\n",
              "      <td>5</td>\n",
              "      <td>4</td>\n",
              "      <td>3</td>\n",
              "    </tr>\n",
              "    <tr>\n",
              "      <th>9</th>\n",
              "      <td>MarbleJac</td>\n",
              "      <td>Loved It Location is fabulous. Service couldn'...</td>\n",
              "      <td>Jul 29, 2008</td>\n",
              "      <td>1</td>\n",
              "      <td>1</td>\n",
              "      <td>4</td>\n",
              "      <td>4</td>\n",
              "      <td>4</td>\n",
              "      <td>5</td>\n",
              "      <td>5</td>\n",
              "      <td>5</td>\n",
              "      <td>5</td>\n",
              "      <td>4</td>\n",
              "    </tr>\n",
              "    <tr>\n",
              "      <th>10</th>\n",
              "      <td>Smashers</td>\n",
              "      <td>Clean hotel w/great service! Hotel was in a re...</td>\n",
              "      <td>Jul 8, 2008</td>\n",
              "      <td>3</td>\n",
              "      <td>3</td>\n",
              "      <td>5</td>\n",
              "      <td>5</td>\n",
              "      <td>5</td>\n",
              "      <td>5</td>\n",
              "      <td>5</td>\n",
              "      <td>5</td>\n",
              "      <td>5</td>\n",
              "      <td>5</td>\n",
              "    </tr>\n",
              "    <tr>\n",
              "      <th>11</th>\n",
              "      <td>kiwiwannabe</td>\n",
              "      <td>Very Pleasant  Agree with all of the positive ...</td>\n",
              "      <td>Jul 4, 2008</td>\n",
              "      <td>2</td>\n",
              "      <td>2</td>\n",
              "      <td>4</td>\n",
              "      <td>4</td>\n",
              "      <td>4</td>\n",
              "      <td>5</td>\n",
              "      <td>4</td>\n",
              "      <td>4</td>\n",
              "      <td>5</td>\n",
              "      <td>-1</td>\n",
              "    </tr>\n",
              "    <tr>\n",
              "      <th>12</th>\n",
              "      <td>Chiliwidle</td>\n",
              "      <td>A Great Hotel We stayed here in March as we we...</td>\n",
              "      <td>Jun 23, 2008</td>\n",
              "      <td>1</td>\n",
              "      <td>1</td>\n",
              "      <td>4</td>\n",
              "      <td>3</td>\n",
              "      <td>4</td>\n",
              "      <td>5</td>\n",
              "      <td>4</td>\n",
              "      <td>3</td>\n",
              "      <td>2</td>\n",
              "      <td>3</td>\n",
              "    </tr>\n",
              "    <tr>\n",
              "      <th>13</th>\n",
              "      <td>trinzeon</td>\n",
              "      <td>A wonderful hotel at a reasonable price I just...</td>\n",
              "      <td>Jun 18, 2008</td>\n",
              "      <td>2</td>\n",
              "      <td>2</td>\n",
              "      <td>5</td>\n",
              "      <td>4</td>\n",
              "      <td>4</td>\n",
              "      <td>4</td>\n",
              "      <td>5</td>\n",
              "      <td>5</td>\n",
              "      <td>5</td>\n",
              "      <td>5</td>\n",
              "    </tr>\n",
              "    <tr>\n",
              "      <th>14</th>\n",
              "      <td>ATudorQuene</td>\n",
              "      <td>AbFab Times at the Hotel Monaco - We Miss You ...</td>\n",
              "      <td>Jun 16, 2008</td>\n",
              "      <td>2</td>\n",
              "      <td>2</td>\n",
              "      <td>5</td>\n",
              "      <td>5</td>\n",
              "      <td>5</td>\n",
              "      <td>5</td>\n",
              "      <td>5</td>\n",
              "      <td>5</td>\n",
              "      <td>5</td>\n",
              "      <td>5</td>\n",
              "    </tr>\n",
              "    <tr>\n",
              "      <th>15</th>\n",
              "      <td>BearAndPenguin</td>\n",
              "      <td>Overpriced My husband and I stayed here the ni...</td>\n",
              "      <td>Jun 10, 2008</td>\n",
              "      <td>5</td>\n",
              "      <td>2</td>\n",
              "      <td>3</td>\n",
              "      <td>2</td>\n",
              "      <td>3</td>\n",
              "      <td>3</td>\n",
              "      <td>4</td>\n",
              "      <td>5</td>\n",
              "      <td>3</td>\n",
              "      <td>-1</td>\n",
              "    </tr>\n",
              "    <tr>\n",
              "      <th>16</th>\n",
              "      <td>sunchip</td>\n",
              "      <td>Unique! A great Stay. Had a wonderful time at ...</td>\n",
              "      <td>Jun 7, 2008</td>\n",
              "      <td>2</td>\n",
              "      <td>2</td>\n",
              "      <td>5</td>\n",
              "      <td>4</td>\n",
              "      <td>5</td>\n",
              "      <td>5</td>\n",
              "      <td>5</td>\n",
              "      <td>5</td>\n",
              "      <td>5</td>\n",
              "      <td>5</td>\n",
              "    </tr>\n",
              "    <tr>\n",
              "      <th>17</th>\n",
              "      <td>SCG2</td>\n",
              "      <td>Pleasant stay at the Seattle Monaco Our 2 nigh...</td>\n",
              "      <td>May 28, 2008</td>\n",
              "      <td>1</td>\n",
              "      <td>1</td>\n",
              "      <td>4</td>\n",
              "      <td>4</td>\n",
              "      <td>4</td>\n",
              "      <td>4</td>\n",
              "      <td>4</td>\n",
              "      <td>4</td>\n",
              "      <td>4</td>\n",
              "      <td>3</td>\n",
              "    </tr>\n",
              "    <tr>\n",
              "      <th>18</th>\n",
              "      <td>soundbit</td>\n",
              "      <td>Good Hotel for Downtown stay I was here for 5 ...</td>\n",
              "      <td>May 23, 2008</td>\n",
              "      <td>4</td>\n",
              "      <td>3</td>\n",
              "      <td>4</td>\n",
              "      <td>4</td>\n",
              "      <td>4</td>\n",
              "      <td>4</td>\n",
              "      <td>4</td>\n",
              "      <td>4</td>\n",
              "      <td>4</td>\n",
              "      <td>-1</td>\n",
              "    </tr>\n",
              "    <tr>\n",
              "      <th>19</th>\n",
              "      <td>RelaxSC</td>\n",
              "      <td>Fan of the Hotel Monaco Seattle Just got back ...</td>\n",
              "      <td>May 18, 2008</td>\n",
              "      <td>3</td>\n",
              "      <td>3</td>\n",
              "      <td>4</td>\n",
              "      <td>3</td>\n",
              "      <td>4</td>\n",
              "      <td>5</td>\n",
              "      <td>5</td>\n",
              "      <td>3</td>\n",
              "      <td>5</td>\n",
              "      <td>-1</td>\n",
              "    </tr>\n",
              "  </tbody>\n",
              "</table>\n",
              "</div>"
            ],
            "text/plain": [
              "            Author  ... Business service\n",
              "0      selizabethm  ...               -1\n",
              "1        IndieLady  ...               -1\n",
              "2           Hilobb  ...                4\n",
              "3   Chianti_girl24  ...                5\n",
              "4       hothearted  ...               -1\n",
              "5        MauiDiver  ...                3\n",
              "6         Tulane86  ...                5\n",
              "7         kstenger  ...               -1\n",
              "8       cantwaitNy  ...                3\n",
              "9        MarbleJac  ...                4\n",
              "10        Smashers  ...                5\n",
              "11     kiwiwannabe  ...               -1\n",
              "12      Chiliwidle  ...                3\n",
              "13        trinzeon  ...                5\n",
              "14     ATudorQuene  ...                5\n",
              "15  BearAndPenguin  ...               -1\n",
              "16         sunchip  ...                5\n",
              "17            SCG2  ...                3\n",
              "18        soundbit  ...               -1\n",
              "19         RelaxSC  ...               -1\n",
              "\n",
              "[20 rows x 13 columns]"
            ]
          },
          "metadata": {
            "tags": []
          },
          "execution_count": 9
        }
      ]
    },
    {
      "cell_type": "code",
      "metadata": {
        "id": "1_5Az3IiYPzX"
      },
      "source": [
        ""
      ],
      "execution_count": null,
      "outputs": []
    }
  ]
}